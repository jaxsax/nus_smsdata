{
 "cells": [
  {
   "cell_type": "code",
   "execution_count": 33,
   "metadata": {},
   "outputs": [],
   "source": [
    "import pandas as pd\n",
    "import json\n",
    "\n",
    "import pprint\n",
    "\n",
    "pd.set_option('display.width', 1000)"
   ]
  },
  {
   "cell_type": "code",
   "execution_count": 34,
   "metadata": {},
   "outputs": [],
   "source": [
    "data = None\n",
    "with open(\"inputs/smsCorpus_en_2015.03.09_all.json\") as f:\n",
    "    data = json.load(f)"
   ]
  },
  {
   "cell_type": "code",
   "execution_count": 37,
   "metadata": {},
   "outputs": [
    {
     "name": "stdout",
     "output_type": "stream",
     "text": [
      "{   '@id': 10120,\n",
      "    'collectionMethod': {   '@collector': 'howyijue',\n",
      "                            '@method': 'unknown',\n",
      "                            '@time': '2003/4'},\n",
      "    'destination': {'@country': 'unknown', 'destNumber': {'$': 'unknown'}},\n",
      "    'messageProfile': {   '@language': 'en',\n",
      "                          '@time': 'unknown',\n",
      "                          '@type': 'unknown'},\n",
      "    'source': {   'phoneModel': {   '@manufactuer': 'unknown',\n",
      "                                    '@smartphone': 'unknown'},\n",
      "                  'srcNumber': {'$': 51},\n",
      "                  'userProfile': {   'age': {'$': 'unknown'},\n",
      "                                     'city': {'$': 'unknown'},\n",
      "                                     'country': {'$': 'SG'},\n",
      "                                     'experience': {'$': 'unknown'},\n",
      "                                     'frequency': {'$': 'unknown'},\n",
      "                                     'gender': {'$': 'unknown'},\n",
      "                                     'inputMethod': {'$': 'unknown'},\n",
      "                                     'nativeSpeaker': {'$': 'unknown'},\n",
      "                                     'userID': {'$': 51}}},\n",
      "    'text': {'$': 'Bugis oso near wat...'}}\n"
     ]
    },
    {
     "data": {
      "text/html": [
       "<div>\n",
       "<style scoped>\n",
       "    .dataframe tbody tr th:only-of-type {\n",
       "        vertical-align: middle;\n",
       "    }\n",
       "\n",
       "    .dataframe tbody tr th {\n",
       "        vertical-align: top;\n",
       "    }\n",
       "\n",
       "    .dataframe thead th {\n",
       "        text-align: right;\n",
       "    }\n",
       "</style>\n",
       "<table border=\"1\" class=\"dataframe\">\n",
       "  <thead>\n",
       "    <tr style=\"text-align: right;\">\n",
       "      <th></th>\n",
       "      <th>id</th>\n",
       "      <th>text</th>\n",
       "    </tr>\n",
       "  </thead>\n",
       "  <tbody>\n",
       "    <tr>\n",
       "      <th>0</th>\n",
       "      <td>10120</td>\n",
       "      <td>Bugis oso near wat...</td>\n",
       "    </tr>\n",
       "    <tr>\n",
       "      <th>1</th>\n",
       "      <td>10121</td>\n",
       "      <td>Go until jurong point, crazy.. Available only ...</td>\n",
       "    </tr>\n",
       "    <tr>\n",
       "      <th>2</th>\n",
       "      <td>10122</td>\n",
       "      <td>I dunno until when... Lets go learn pilates...</td>\n",
       "    </tr>\n",
       "    <tr>\n",
       "      <th>3</th>\n",
       "      <td>10123</td>\n",
       "      <td>Den only weekdays got special price... Haiz......</td>\n",
       "    </tr>\n",
       "    <tr>\n",
       "      <th>4</th>\n",
       "      <td>10124</td>\n",
       "      <td>Meet after lunch la...</td>\n",
       "    </tr>\n",
       "  </tbody>\n",
       "</table>\n",
       "</div>"
      ],
      "text/plain": [
       "      id                                               text\n",
       "0  10120                              Bugis oso near wat...\n",
       "1  10121  Go until jurong point, crazy.. Available only ...\n",
       "2  10122     I dunno until when... Lets go learn pilates...\n",
       "3  10123  Den only weekdays got special price... Haiz......\n",
       "4  10124                             Meet after lunch la..."
      ]
     },
     "execution_count": 37,
     "metadata": {},
     "output_type": "execute_result"
    }
   ],
   "source": [
    "messages = data['smsCorpus']['message']\n",
    "pp = pprint.PrettyPrinter(indent=4)\n",
    "pp.pprint(messages[0])\n",
    "\n",
    "def parse_messages(messages):\n",
    "    id = [m['@id'] for m in messages]\n",
    "    text = [m['text']['$'] for m in messages]\n",
    "    \n",
    "    return pd.DataFrame({\n",
    "        'id': id,\n",
    "        'text': text\n",
    "    })\n",
    "\n",
    "messages = parse_messages(messages)\n",
    "messages.head(5)"
   ]
  }
 ],
 "metadata": {
  "kernelspec": {
   "display_name": "Python 3",
   "language": "python",
   "name": "python3"
  },
  "language_info": {
   "codemirror_mode": {
    "name": "ipython",
    "version": 3
   },
   "file_extension": ".py",
   "mimetype": "text/x-python",
   "name": "python",
   "nbconvert_exporter": "python",
   "pygments_lexer": "ipython3",
   "version": "3.6.8"
  }
 },
 "nbformat": 4,
 "nbformat_minor": 2
}
