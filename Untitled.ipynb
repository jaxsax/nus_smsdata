{
 "cells": [
  {
   "cell_type": "code",
   "execution_count": 1,
   "metadata": {},
   "outputs": [],
   "source": [
    "import pandas as pd\n",
    "import matplotlib.pyplot as plt\n",
    "import seaborn as sns\n",
    "\n",
    "from functools import reduce\n",
    "from nltk.corpus import stopwords\n",
    "\n",
    "import pprint\n",
    "import json\n",
    "import string\n",
    "import collections\n",
    "import itertools\n",
    "import wordcloud\n",
    "import nltk\n",
    "\n",
    "nltk.download('stopwords', quiet=True)\n",
    "\n",
    "pd.set_option('display.width', 1000)\n",
    "pd.set_option('display.max_colwidth', -1)\n",
    "sns.set(style=\"darkgrid\")"
   ]
  },
  {
   "cell_type": "code",
   "execution_count": 2,
   "metadata": {},
   "outputs": [],
   "source": [
    "data = None\n",
    "with open(\"inputs/smsCorpus_en_2015.03.09_all.json\") as f:\n",
    "    data = json.load(f)"
   ]
  },
  {
   "cell_type": "code",
   "execution_count": 3,
   "metadata": {},
   "outputs": [
    {
     "name": "stdout",
     "output_type": "stream",
     "text": [
      "{   '@id': 10120,\n",
      "    'collectionMethod': {   '@collector': 'howyijue',\n",
      "                            '@method': 'unknown',\n",
      "                            '@time': '2003/4'},\n",
      "    'destination': {'@country': 'unknown', 'destNumber': {'$': 'unknown'}},\n",
      "    'messageProfile': {   '@language': 'en',\n",
      "                          '@time': 'unknown',\n",
      "                          '@type': 'unknown'},\n",
      "    'source': {   'phoneModel': {   '@manufactuer': 'unknown',\n",
      "                                    '@smartphone': 'unknown'},\n",
      "                  'srcNumber': {'$': 51},\n",
      "                  'userProfile': {   'age': {'$': 'unknown'},\n",
      "                                     'city': {'$': 'unknown'},\n",
      "                                     'country': {'$': 'SG'},\n",
      "                                     'experience': {'$': 'unknown'},\n",
      "                                     'frequency': {'$': 'unknown'},\n",
      "                                     'gender': {'$': 'unknown'},\n",
      "                                     'inputMethod': {'$': 'unknown'},\n",
      "                                     'nativeSpeaker': {'$': 'unknown'},\n",
      "                                     'userID': {'$': 51}}},\n",
      "    'text': {'$': 'Bugis oso near wat...'}}\n"
     ]
    },
    {
     "data": {
      "text/html": [
       "<div>\n",
       "<style scoped>\n",
       "    .dataframe tbody tr th:only-of-type {\n",
       "        vertical-align: middle;\n",
       "    }\n",
       "\n",
       "    .dataframe tbody tr th {\n",
       "        vertical-align: top;\n",
       "    }\n",
       "\n",
       "    .dataframe thead th {\n",
       "        text-align: right;\n",
       "    }\n",
       "</style>\n",
       "<table border=\"1\" class=\"dataframe\">\n",
       "  <thead>\n",
       "    <tr style=\"text-align: right;\">\n",
       "      <th></th>\n",
       "      <th>id</th>\n",
       "      <th>text</th>\n",
       "      <th>gender</th>\n",
       "    </tr>\n",
       "  </thead>\n",
       "  <tbody>\n",
       "    <tr>\n",
       "      <th>0</th>\n",
       "      <td>10120</td>\n",
       "      <td>Bugis oso near wat...</td>\n",
       "      <td>unknown</td>\n",
       "    </tr>\n",
       "    <tr>\n",
       "      <th>1</th>\n",
       "      <td>10121</td>\n",
       "      <td>Go until jurong point, crazy.. Available only in bugis n great world la e buffet... Cine there got amore wat...</td>\n",
       "      <td>unknown</td>\n",
       "    </tr>\n",
       "    <tr>\n",
       "      <th>2</th>\n",
       "      <td>10122</td>\n",
       "      <td>I dunno until when... Lets go learn pilates...</td>\n",
       "      <td>unknown</td>\n",
       "    </tr>\n",
       "    <tr>\n",
       "      <th>3</th>\n",
       "      <td>10123</td>\n",
       "      <td>Den only weekdays got special price... Haiz... Cant eat liao... Cut nails oso muz wait until i finish drivin wat, lunch still muz eat wat...</td>\n",
       "      <td>unknown</td>\n",
       "    </tr>\n",
       "    <tr>\n",
       "      <th>4</th>\n",
       "      <td>10124</td>\n",
       "      <td>Meet after lunch la...</td>\n",
       "      <td>unknown</td>\n",
       "    </tr>\n",
       "    <tr>\n",
       "      <th>27917</th>\n",
       "      <td>17801</td>\n",
       "      <td>Haha true or wasted.... haha rain also stop le I reaching school soon!</td>\n",
       "      <td>male</td>\n",
       "    </tr>\n",
       "    <tr>\n",
       "      <th>27918</th>\n",
       "      <td>17802</td>\n",
       "      <td>Haha thanks! Finish le! Shld be ok haha... won't die too badly</td>\n",
       "      <td>male</td>\n",
       "    </tr>\n",
       "    <tr>\n",
       "      <th>27919</th>\n",
       "      <td>17803</td>\n",
       "      <td>Yes mdm! Hope today got yummy dinner lol... I slept  &lt;#&gt;  hour stillvery tired lo lol... haha then wat is the one thing scarly it cost $&lt;#&gt;  lol</td>\n",
       "      <td>male</td>\n",
       "    </tr>\n",
       "    <tr>\n",
       "      <th>27920</th>\n",
       "      <td>17804</td>\n",
       "      <td>Haha also yummy arh... yes spaghetti! Wahahaha.... Nomnomnom! Ya Lobut still sleepy! Must be chuan ran by u... haizzzzzz... let me guessis it a short!</td>\n",
       "      <td>male</td>\n",
       "    </tr>\n",
       "    <tr>\n",
       "      <th>27921</th>\n",
       "      <td>17805</td>\n",
       "      <td>Tink of food make me hungry le lol... wahahaha the short part is sorandom... mix blood mah haha I dating foreigner sia! Lol but the lastpart must be driving ur sis mad lol</td>\n",
       "      <td>male</td>\n",
       "    </tr>\n",
       "    <tr>\n",
       "      <th>55830</th>\n",
       "      <td>45714</td>\n",
       "      <td>I LOVE YOU TOO</td>\n",
       "      <td>male</td>\n",
       "    </tr>\n",
       "    <tr>\n",
       "      <th>55831</th>\n",
       "      <td>45715</td>\n",
       "      <td>C-YA</td>\n",
       "      <td>male</td>\n",
       "    </tr>\n",
       "    <tr>\n",
       "      <th>55832</th>\n",
       "      <td>45716</td>\n",
       "      <td>:-)</td>\n",
       "      <td>male</td>\n",
       "    </tr>\n",
       "    <tr>\n",
       "      <th>55833</th>\n",
       "      <td>45717</td>\n",
       "      <td>BE MY GUEST</td>\n",
       "      <td>male</td>\n",
       "    </tr>\n",
       "    <tr>\n",
       "      <th>55834</th>\n",
       "      <td>45718</td>\n",
       "      <td>MANY MANY MANY PEOPLE</td>\n",
       "      <td>male</td>\n",
       "    </tr>\n",
       "  </tbody>\n",
       "</table>\n",
       "</div>"
      ],
      "text/plain": [
       "          id                                                                                                                                                                         text   gender\n",
       "0      10120  Bugis oso near wat...                                                                                                                                                        unknown\n",
       "1      10121  Go until jurong point, crazy.. Available only in bugis n great world la e buffet... Cine there got amore wat...                                                              unknown\n",
       "2      10122  I dunno until when... Lets go learn pilates...                                                                                                                               unknown\n",
       "3      10123  Den only weekdays got special price... Haiz... Cant eat liao... Cut nails oso muz wait until i finish drivin wat, lunch still muz eat wat...                                 unknown\n",
       "4      10124  Meet after lunch la...                                                                                                                                                       unknown\n",
       "27917  17801  Haha true or wasted.... haha rain also stop le I reaching school soon!                                                                                                       male   \n",
       "27918  17802  Haha thanks! Finish le! Shld be ok haha... won't die too badly                                                                                                               male   \n",
       "27919  17803  Yes mdm! Hope today got yummy dinner lol... I slept  <#>  hour stillvery tired lo lol... haha then wat is the one thing scarly it cost $<#>  lol                             male   \n",
       "27920  17804  Haha also yummy arh... yes spaghetti! Wahahaha.... Nomnomnom! Ya Lobut still sleepy! Must be chuan ran by u... haizzzzzz... let me guessis it a short!                       male   \n",
       "27921  17805  Tink of food make me hungry le lol... wahahaha the short part is sorandom... mix blood mah haha I dating foreigner sia! Lol but the lastpart must be driving ur sis mad lol  male   \n",
       "55830  45714  I LOVE YOU TOO                                                                                                                                                               male   \n",
       "55831  45715  C-YA                                                                                                                                                                         male   \n",
       "55832  45716  :-)                                                                                                                                                                          male   \n",
       "55833  45717  BE MY GUEST                                                                                                                                                                  male   \n",
       "55834  45718  MANY MANY MANY PEOPLE                                                                                                                                                        male   "
      ]
     },
     "execution_count": 3,
     "metadata": {},
     "output_type": "execute_result"
    }
   ],
   "source": [
    "messages = data['smsCorpus']['message']\n",
    "pp = pprint.PrettyPrinter(indent=4)\n",
    "pp.pprint(messages[0])\n",
    "\n",
    "def parse_messages(messages):\n",
    "    id = [m['@id'] for m in messages]\n",
    "    text = [m['text']['$'] for m in messages]\n",
    "    gender = [m['source']['userProfile']['gender']['$'].lower() for m in messages]\n",
    "    \n",
    "    df = pd.DataFrame({\n",
    "        'id': id,\n",
    "        'text': text,\n",
    "        'gender': gender,\n",
    "    })\n",
    "    df['text'] = df['text'].astype(str)\n",
    "    return df\n",
    "\n",
    "messages = parse_messages(messages)\n",
    "half = int(abs(messages.shape[0]/2))\n",
    "pd.concat([messages.head(5), \n",
    "           messages.iloc[half:half+5],\n",
    "           messages.tail(5)])"
   ]
  },
  {
   "cell_type": "code",
   "execution_count": 4,
   "metadata": {},
   "outputs": [
    {
     "name": "stdout",
     "output_type": "stream",
     "text": [
      "<class 'pandas.core.frame.DataFrame'>\n",
      "RangeIndex: 55835 entries, 0 to 55834\n",
      "Data columns (total 3 columns):\n",
      "id        55835 non-null int64\n",
      "text      55835 non-null object\n",
      "gender    55835 non-null object\n",
      "dtypes: int64(1), object(2)\n",
      "memory usage: 1.3+ MB\n"
     ]
    }
   ],
   "source": [
    "messages.info()"
   ]
  },
  {
   "cell_type": "code",
   "execution_count": null,
   "metadata": {},
   "outputs": [
    {
     "data": {
      "text/plain": [
       "<matplotlib.axes._subplots.AxesSubplot at 0x1627b672f98>"
      ]
     },
     "execution_count": 5,
     "metadata": {},
     "output_type": "execute_result"
    },
    {
     "data": {
      "image/png": "[encoded data removed]",
      "text/plain": [
       "<Figure size 432x288 with 1 Axes>"
      ]
     },
     "metadata": {
      "needs_background": "light"
     },
     "output_type": "display_data"
    }
   ],
   "source": [
    "# Question: What is the topn words that males, females or unknowns like to use\n",
    "\n",
    "gender_counts = messages['gender'].value_counts()\n",
    "sns.barplot(gender_counts.index, gender_counts)"
   ]
  },
  {
   "cell_type": "code",
   "execution_count": null,
   "metadata": {},
   "outputs": [],
   "source": [
    "def clean_text(text):\n",
    "    t = text.lower()\n",
    "    t = filter(lambda x: x not in string.punctuation, t)\n",
    "    \n",
    "    return \"\".join(t)\n",
    "\n",
    "assert(clean_text(\"aAaA\") == \"aaaa\")\n",
    "assert(clean_text(\"a.!'\\\"\") == \"a\")\n",
    "\n",
    "english_stopwords = set(stopwords.words('english'))\n",
    "\n",
    "def split_and_remove_empty(text):\n",
    "    split_tokens = (y.strip() for y in text.split(' '))\n",
    "    split_tokens = filter(lambda x: x not in english_stopwords, split_tokens)\n",
    "    return list(filter(lambda x: len(x) >= 1, split_tokens))\n",
    "\n",
    "df_messages_clean_text = messages.copy()\n",
    "df_messages_clean_text['text'] = df_messages_clean_text['text'].apply(clean_text)\n",
    "\n",
    "df_messages_clean_text['text'] = df_messages_clean_text['text'].apply(split_and_remove_empty)\n",
    "df_male_messages = df_messages_clean_text[df_messages_clean_text.gender == 'male']\n",
    "df_female_messages = df_messages_clean_text[df_messages_clean_text.gender == 'female']"
   ]
  },
  {
   "cell_type": "code",
   "execution_count": null,
   "metadata": {},
   "outputs": [],
   "source": [
    "def create_wordcloud(texts):\n",
    "    counter = collections.Counter(itertools.chain.from_iterable(texts.values))\n",
    "    return wordcloud.WordCloud(max_words=100, width=1024, height=768).generate_from_frequencies(counter)\n",
    "\n",
    "def build_wordclouds(text0, text1):\n",
    "    fig, ax = plt.subplots(1, 2, figsize=(20,20))\n",
    "\n",
    "    male_wc = create_wordcloud(text0)\n",
    "    ax[0].set_title('Wordcloud for males')\n",
    "    ax[0].axis('off')\n",
    "    ax[0].imshow(male_wc, interpolation='bilinear')\n",
    "    \n",
    "    female_wc = create_wordcloud(text1)\n",
    "    ax[1].set_title('Wordcloud for females')\n",
    "    ax[1].axis('off')\n",
    "    ax[1].imshow(female_wc, interpolation='bilinear')\n",
    "    \n",
    "build_wordclouds(df_male_messages['text'], df_female_messages['text'])"
   ]
  },
  {
   "cell_type": "code",
   "execution_count": null,
   "metadata": {},
   "outputs": [],
   "source": [
    "plt.figure(figsize=(10,10))\n",
    "plt.imshow(create_wordcloud(df_messages_clean_text['text']))\n",
    "plt.title('Wordcloud for all')\n",
    "plt.axis('off')\n",
    "plt.show()"
   ]
  },
  {
   "cell_type": "code",
   "execution_count": null,
   "metadata": {},
   "outputs": [],
   "source": [
    "lul_test = messages['text'].copy()\n",
    "lul_test = lul_test.str.lower()\n",
    "lul_test[lul_test.str.contains('lul', regex=False)].to_frame()"
   ]
  },
  {
   "cell_type": "code",
   "execution_count": null,
   "metadata": {},
   "outputs": [],
   "source": [
    "# Can we train a model that tries to assign a gender to the knowns based off their text pattern?"
   ]
  },
  {
   "cell_type": "code",
   "execution_count": null,
   "metadata": {},
   "outputs": [],
   "source": [
    "# https://www.datacamp.com/community/tutorials/categorical-data\n",
    "\n",
    "replacement_map = {\n",
    "    'gender_map': {        \n",
    "        'unknown': 0,\n",
    "        'male': 1,\n",
    "        'female': 2\n",
    "    }\n",
    "}"
   ]
  }
 ],
 "metadata": {
  "kernelspec": {
   "display_name": "Python 3",
   "language": "python",
   "name": "python3"
  },
  "language_info": {
   "codemirror_mode": {
    "name": "ipython",
    "version": 3
   },
   "file_extension": ".py",
   "mimetype": "text/x-python",
   "name": "python",
   "nbconvert_exporter": "python",
   "pygments_lexer": "ipython3",
   "version": "3.6.8"
  }
 },
 "nbformat": 4,
 "nbformat_minor": 2
}
